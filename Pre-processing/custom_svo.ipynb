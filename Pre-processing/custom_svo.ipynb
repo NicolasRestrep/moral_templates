{
 "cells": [
  {
   "cell_type": "markdown",
   "metadata": {},
   "source": [
    "# Subject-Verb-Object Triplets \n",
    "\n",
    "In this notebook, I am going to create a function to extract the subject-verb-object triplets from the articles. Then, I will run it for the entire corpus. The end result is a dataset with all identifiable triplets and some important features, like starting position, parts-of speech tags, etc. "
   ]
  },
  {
   "cell_type": "code",
   "execution_count": 1,
   "metadata": {},
   "outputs": [],
   "source": [
    "import spacy \n",
    "from spacy.matcher import Matcher\n",
    "import textacy\n",
    "import pandas as pd \n",
    "import numpy as np \n",
    "\n",
    "nlp = spacy.load('en_core_web_sm')\n",
    "\n",
    "from spacy.symbols import NOUN, PROPN, VERB\n",
    "from spacy.tokens import Doc, Span, Token"
   ]
  },
  {
   "cell_type": "markdown",
   "metadata": {},
   "source": [
    "I begin by importing the dataset and dropping the missing values"
   ]
  },
  {
   "cell_type": "code",
   "execution_count": 6,
   "metadata": {
    "tags": []
   },
   "outputs": [],
   "source": [
    "# First let's import vox\n",
    "\n",
    "vox = pd.read_csv(\"C:/Users/nro04/Documents/moral_templates/Data/vox_articles.csv\")\n",
    "\n",
    "# Drop articles for which I don't have the text \n",
    "\n",
    "vox = vox.dropna(subset=['clean_strings'])\n",
    "\n"
   ]
  },
  {
   "cell_type": "markdown",
   "metadata": {},
   "source": [
    "I know create a function that extracts the desired triplets along with additional important information. This code uses and is heavily based on the textacy library"
   ]
  },
  {
   "cell_type": "code",
   "execution_count": 7,
   "metadata": {},
   "outputs": [],
   "source": [
    "def subject_verb_object_triples(doc):\n",
    "\n",
    "    sents = doc.sents\n",
    "\n",
    "    for sent in sents:\n",
    "        start_i = sent[0].i\n",
    "\n",
    "        verbs = textacy.spacier.utils.get_main_verbs_of_sent(sent)\n",
    "        for verb in verbs:\n",
    "            subjs = textacy.spacier.utils.get_subjects_of_verb(verb)\n",
    "            if not subjs:\n",
    "                continue\n",
    "            objs = textacy.spacier.utils.get_objects_of_verb(verb)\n",
    "            if not objs:\n",
    "                continue\n",
    "\n",
    "            # add adjacent auxiliaries to verbs, for context\n",
    "            # and add compounds to compound nouns\n",
    "            verb_span = textacy.spacier.utils.get_span_for_verb_auxiliaries(verb)\n",
    "            verb = sent[verb_span[0] - start_i : verb_span[1] - start_i + 1]\n",
    "            for subj in subjs:\n",
    "                subj_dep = subj.dep_\n",
    "                subj_tag = subj.tag_\n",
    "                subj = sent[\n",
    "                    textacy.spacier.utils.get_span_for_compound_noun(subj)[0]\n",
    "                    - start_i : subj.i\n",
    "                    - start_i\n",
    "                    + 1\n",
    "                ]\n",
    "                for obj in objs:\n",
    "                    if obj.pos == NOUN:\n",
    "                        span = textacy.spacier.utils.get_span_for_compound_noun(obj)\n",
    "                    elif obj.pos == VERB:\n",
    "                        span = textacy.spacier.utils.get_span_for_verb_auxiliaries(obj)\n",
    "                    else:\n",
    "                        span = (obj.i, obj.i)\n",
    "                    obj_dep = obj.dep_\n",
    "                    obj_tag = obj.tag_\n",
    "                    obj = sent[span[0] - start_i : span[1] - start_i + 1]\n",
    "                    end_pos = span[1] \n",
    "\n",
    "                    yield (start_i,subj, subj_dep, subj_tag, verb, obj, obj_dep, obj_tag,  end_pos)"
   ]
  },
  {
   "cell_type": "markdown",
   "metadata": {},
   "source": [
    "I now expand on the above function so that the result is a pandas data-frame."
   ]
  },
  {
   "cell_type": "code",
   "execution_count": 8,
   "metadata": {},
   "outputs": [],
   "source": [
    "# Create a function for creating the dataframe \n",
    "\n",
    "def create_svo_dataframe(doc): \n",
    "\n",
    "    start_list = []\n",
    "    subject_list = []\n",
    "    sdep_list = []\n",
    "    stag_list = []\n",
    "    verb_list = []\n",
    "    object_list = []\n",
    "    odep_list = []\n",
    "    otag_list = []\n",
    "    end_list = []\n",
    "\n",
    "    triplets = subject_verb_object_triples(doc)\n",
    "\n",
    "    for triplet in triplets:\n",
    "        start = triplet[0]\n",
    "        subj = triplet[1]\n",
    "        subj_dep = triplet[2]\n",
    "        subj_tag = triplet[3]\n",
    "        verb = triplet[4]\n",
    "        obj = triplet[5]\n",
    "        obj_dep = triplet[6]\n",
    "        obj_tag = triplet[7]\n",
    "        end = triplet[8]\n",
    "\n",
    "        start_list.append(start)\n",
    "        subject_list.append(subj)\n",
    "        sdep_list.append(subj_dep)\n",
    "        stag_list.append(subj_tag)\n",
    "        verb_list.append(verb)\n",
    "        object_list.append(obj)\n",
    "        odep_list.append(obj_dep)\n",
    "        otag_list.append(obj_tag)\n",
    "        end_list.append(end)\n",
    "    \n",
    "    dict = {'subject': subject_list, \n",
    "        'verb': verb_list, \n",
    "        'object': object_list, \n",
    "        'start': start_list, \n",
    "        'end': end_list, \n",
    "        'subj_dep': sdep_list, \n",
    "        'subj_tag': stag_list, \n",
    "        'obj_dep': odep_list, \n",
    "        'obj_tag': otag_list}\n",
    "    \n",
    "    svo_df = pd.DataFrame(dict)\n",
    "\n",
    "    return svo_df\n",
    "\n",
    "\n",
    "        "
   ]
  },
  {
   "cell_type": "markdown",
   "metadata": {},
   "source": [
    "Run the function on all rows of vox and append them to an empty dataframe. \n",
    "\n",
    "This takes a long time. "
   ]
  },
  {
   "cell_type": "code",
   "execution_count": 19,
   "metadata": {
    "tags": []
   },
   "outputs": [
    {
     "output_type": "stream",
     "name": "stdout",
     "text": "working on article 0\nworking on article 100\nworking on article 200\nworking on article 300\nworking on article 400\nworking on article 500\nworking on article 600\nworking on article 700\nworking on article 800\nworking on article 900\nworking on article 1000\nworking on article 1100\nworking on article 1200\nworking on article 1300\nworking on article 1400\nworking on article 1500\nworking on article 1600\nworking on article 1700\nworking on article 1800\nworking on article 1900\nworking on article 2000\nworking on article 2100\nworking on article 2200\nworking on article 2300\nworking on article 2400\nworking on article 2500\nworking on article 2600\nworking on article 2700\nworking on article 2800\nworking on article 2900\nworking on article 3000\nworking on article 3100\nworking on article 3200\nworking on article 3300\nworking on article 3400\nworking on article 3500\nworking on article 3600\nworking on article 3700\nworking on article 3800\nworking on article 3900\nworking on article 4000\nworking on article 4100\nworking on article 4200\nworking on article 4300\nworking on article 4400\nworking on article 4500\nworking on article 4600\nworking on article 4700\nworking on article 4800\nworking on article 4900\nworking on article 5000\nworking on article 5100\nworking on article 5200\nworking on article 5300\nworking on article 5400\nworking on article 5500\nworking on article 5600\nworking on article 5700\nworking on article 5800\nworking on article 5900\nworking on article 6000\nworking on article 6100\nworking on article 6200\nworking on article 6300\nworking on article 6400\nworking on article 6500\nworking on article 6600\nworking on article 6700\nworking on article 6800\nworking on article 6900\nworking on article 7000\nworking on article 7100\nworking on article 7200\nworking on article 7300\nworking on article 7400\nworking on article 7500\nworking on article 7600\nworking on article 7700\nworking on article 7800\nworking on article 7900\nworking on article 8000\nworking on article 8100\nworking on article 8200\nworking on article 8300\nworking on article 8400\nworking on article 8500\nworking on article 8600\nworking on article 8700\nworking on article 8800\nworking on article 8900\nworking on article 9000\nworking on article 9100\nworking on article 9200\nworking on article 9300\nworking on article 9400\nworking on article 9500\nworking on article 9600\nworking on article 9700\nworking on article 9800\nworking on article 9900\nworking on article 10000\nworking on article 10100\nworking on article 10200\nworking on article 10300\nworking on article 10400\nworking on article 10500\nworking on article 10600\nworking on article 10700\nworking on article 10800\nworking on article 10900\nworking on article 11000\nworking on article 11100\nworking on article 11200\nworking on article 11300\nworking on article 11400\nworking on article 11500\nworking on article 11600\nworking on article 11700\nworking on article 11800\nworking on article 11900\nworking on article 12000\nworking on article 12100\nworking on article 12200\nworking on article 12300\nworking on article 12400\nworking on article 12500\nworking on article 12600\nworking on article 12700\nworking on article 12800\nworking on article 12900\nworking on article 13000\nworking on article 13100\nworking on article 13200\nworking on article 13300\nworking on article 13400\nworking on article 13500\nworking on article 13600\nworking on article 13700\nworking on article 13800\nworking on article 13900\nworking on article 14000\nworking on article 14100\nworking on article 14200\nworking on article 14300\nworking on article 14400\nworking on article 14500\nworking on article 14600\nworking on article 14700\nworking on article 14800\nworking on article 14900\nworking on article 15000\nworking on article 15100\nworking on article 15200\nworking on article 15300\nworking on article 15400\nworking on article 15500\nworking on article 15600\nworking on article 15700\nworking on article 15800\nworking on article 15900\nworking on article 16000\nworking on article 16100\nworking on article 16200\nworking on article 16300\nworking on article 16400\nworking on article 16500\nworking on article 16600\nworking on article 16700\nworking on article 16800\nworking on article 16900\nworking on article 17000\nworking on article 17100\nworking on article 17200\nworking on article 17300\nworking on article 17400\nworking on article 17500\nworking on article 17600\nworking on article 17700\nworking on article 17800\nworking on article 17900\nworking on article 18000\nworking on article 18100\nworking on article 18200\nworking on article 18300\nworking on article 18400\nworking on article 18500\nworking on article 18600\nworking on article 18700\nworking on article 18800\nworking on article 18900\nworking on article 19000\nworking on article 19100\nworking on article 19200\nworking on article 19300\nworking on article 19400\nworking on article 19500\nworking on article 19600\nworking on article 19700\nworking on article 19800\nworking on article 19900\nworking on article 20000\nworking on article 20100\nworking on article 20200\nworking on article 20300\nworking on article 20400\nworking on article 20500\nworking on article 20600\nworking on article 20700\nworking on article 20800\nworking on article 20900\nworking on article 21000\nworking on article 21100\nworking on article 21200\nworking on article 21300\nworking on article 21400\nworking on article 21500\nworking on article 21600\nworking on article 21700\nworking on article 21800\nworking on article 21900\nworking on article 22000\nworking on article 22100\nworking on article 22200\nworking on article 22300\nworking on article 22400\nworking on article 22500\nworking on article 22600\nworking on article 22700\nworking on article 22800\nworking on article 22900\n"
    },
    {
     "output_type": "execute_result",
     "data": {
      "text/plain": "                   subject          verb             object   start     end  \\\n913066             (which)    (includes)            (Smith)  7379.0  7394.0   \n913067             (which)    (includes)            (Davis)  7379.0  7397.0   \n913068             (which)    (includes)             (Leto)  7379.0  7400.0   \n913069             (which)    (includes)           (Robbie)  7379.0  7404.0   \n913070               (any)     (managed)             (have)  7409.0  7425.0   \n913071          (Zootopia)        (uses)  (kingdom, divide)  7486.0  7502.0   \n913072          (Zootopia)        (uses)        (to, craft)  7486.0  7508.0   \n913073                (It)     (’s, not)         (metaphor)  7518.0  7524.0   \n913074              (film)  (reinforces)             (feel)  7643.0  7661.0   \n913075         (Nominated)    (portrays)       (friendship)  7739.0  7763.0   \n913076                (It)        (uses)        (animation)  7776.0  7784.0   \n913077                (It)        (uses)     (relationship)  7776.0  7793.0   \n913078                (It)        (uses)       (to, follow)  7776.0  7786.0   \n913079       (Pear, Cider)       (began)             (life)  7810.0  7817.0   \n913080        (Cigarettes)       (began)             (life)  7810.0  7817.0   \n913081               (use)        (turn)               (it)  7810.0  7854.0   \n913082             (which)   (portrayed)     (relationship)  7910.0  7935.0   \n913083     (minute, Pearl)    (portrays)     (relationship)  7910.0  7956.0   \n913084        (Rogue, One)    (delivers)           (amount)  8145.0  8169.0   \n913085              (that)   (accompany)              (war)  8145.0  8196.0   \n913086  (President, Trump)        (took)             (trip)     0.0     4.0   \n913087                (he)      (called)         (to, back)     0.0    28.0   \n913088                (it)      (served)          (purpose)    44.0    61.0   \n913089              (SPAN)     (carried)           (speech)    85.0    90.0   \n913090  (Vox, news, staff)       (added)      (annotations)   101.0   114.0   \n\n       subj_dep subj_tag obj_dep obj_tag  Document  \n913066    nsubj      WDT    dobj     NNP     22907  \n913067    nsubj      WDT    conj     NNP     22907  \n913068    nsubj      WDT    conj     NNP     22907  \n913069    nsubj      WDT    conj     NNP     22907  \n913070    nsubj       DT   xcomp      VB     22907  \n913071    nsubj      NNP    dobj      NN     22907  \n913072    nsubj      NNP   xcomp      VB     22907  \n913073    nsubj      PRP    attr      NN     22907  \n913074    nsubj       NN    dobj      NN     22907  \n913075    nsubj      VBN    dobj      NN     22907  \n913076    nsubj      PRP    dobj      NN     22907  \n913077    nsubj      PRP    dobj      NN     22907  \n913078    nsubj      PRP   xcomp      VB     22907  \n913079    nsubj      NNP    dobj      NN     22907  \n913080     conj     NNPS    dobj      NN     22907  \n913081    nsubj       NN    dobj     PRP     22907  \n913082    nsubj      WDT    dobj      NN     22907  \n913083    nsubj      NNP    dobj      NN     22907  \n913084    nsubj      NNP    dobj      NN     22907  \n913085    nsubj      WDT    dobj      NN     22907  \n913086    nsubj      NNP    dobj      NN     22908  \n913087    nsubj      PRP   xcomp      VB     22908  \n913088    nsubj      PRP    dobj      NN     22908  \n913089    nsubj      NNP    dobj      NN     22908  \n913090    nsubj       NN    dobj     NNS     22908  ",
      "text/html": "<div>\n<style scoped>\n    .dataframe tbody tr th:only-of-type {\n        vertical-align: middle;\n    }\n\n    .dataframe tbody tr th {\n        vertical-align: top;\n    }\n\n    .dataframe thead th {\n        text-align: right;\n    }\n</style>\n<table border=\"1\" class=\"dataframe\">\n  <thead>\n    <tr style=\"text-align: right;\">\n      <th></th>\n      <th>subject</th>\n      <th>verb</th>\n      <th>object</th>\n      <th>start</th>\n      <th>end</th>\n      <th>subj_dep</th>\n      <th>subj_tag</th>\n      <th>obj_dep</th>\n      <th>obj_tag</th>\n      <th>Document</th>\n    </tr>\n  </thead>\n  <tbody>\n    <tr>\n      <th>913066</th>\n      <td>(which)</td>\n      <td>(includes)</td>\n      <td>(Smith)</td>\n      <td>7379.0</td>\n      <td>7394.0</td>\n      <td>nsubj</td>\n      <td>WDT</td>\n      <td>dobj</td>\n      <td>NNP</td>\n      <td>22907</td>\n    </tr>\n    <tr>\n      <th>913067</th>\n      <td>(which)</td>\n      <td>(includes)</td>\n      <td>(Davis)</td>\n      <td>7379.0</td>\n      <td>7397.0</td>\n      <td>nsubj</td>\n      <td>WDT</td>\n      <td>conj</td>\n      <td>NNP</td>\n      <td>22907</td>\n    </tr>\n    <tr>\n      <th>913068</th>\n      <td>(which)</td>\n      <td>(includes)</td>\n      <td>(Leto)</td>\n      <td>7379.0</td>\n      <td>7400.0</td>\n      <td>nsubj</td>\n      <td>WDT</td>\n      <td>conj</td>\n      <td>NNP</td>\n      <td>22907</td>\n    </tr>\n    <tr>\n      <th>913069</th>\n      <td>(which)</td>\n      <td>(includes)</td>\n      <td>(Robbie)</td>\n      <td>7379.0</td>\n      <td>7404.0</td>\n      <td>nsubj</td>\n      <td>WDT</td>\n      <td>conj</td>\n      <td>NNP</td>\n      <td>22907</td>\n    </tr>\n    <tr>\n      <th>913070</th>\n      <td>(any)</td>\n      <td>(managed)</td>\n      <td>(have)</td>\n      <td>7409.0</td>\n      <td>7425.0</td>\n      <td>nsubj</td>\n      <td>DT</td>\n      <td>xcomp</td>\n      <td>VB</td>\n      <td>22907</td>\n    </tr>\n    <tr>\n      <th>913071</th>\n      <td>(Zootopia)</td>\n      <td>(uses)</td>\n      <td>(kingdom, divide)</td>\n      <td>7486.0</td>\n      <td>7502.0</td>\n      <td>nsubj</td>\n      <td>NNP</td>\n      <td>dobj</td>\n      <td>NN</td>\n      <td>22907</td>\n    </tr>\n    <tr>\n      <th>913072</th>\n      <td>(Zootopia)</td>\n      <td>(uses)</td>\n      <td>(to, craft)</td>\n      <td>7486.0</td>\n      <td>7508.0</td>\n      <td>nsubj</td>\n      <td>NNP</td>\n      <td>xcomp</td>\n      <td>VB</td>\n      <td>22907</td>\n    </tr>\n    <tr>\n      <th>913073</th>\n      <td>(It)</td>\n      <td>(’s, not)</td>\n      <td>(metaphor)</td>\n      <td>7518.0</td>\n      <td>7524.0</td>\n      <td>nsubj</td>\n      <td>PRP</td>\n      <td>attr</td>\n      <td>NN</td>\n      <td>22907</td>\n    </tr>\n    <tr>\n      <th>913074</th>\n      <td>(film)</td>\n      <td>(reinforces)</td>\n      <td>(feel)</td>\n      <td>7643.0</td>\n      <td>7661.0</td>\n      <td>nsubj</td>\n      <td>NN</td>\n      <td>dobj</td>\n      <td>NN</td>\n      <td>22907</td>\n    </tr>\n    <tr>\n      <th>913075</th>\n      <td>(Nominated)</td>\n      <td>(portrays)</td>\n      <td>(friendship)</td>\n      <td>7739.0</td>\n      <td>7763.0</td>\n      <td>nsubj</td>\n      <td>VBN</td>\n      <td>dobj</td>\n      <td>NN</td>\n      <td>22907</td>\n    </tr>\n    <tr>\n      <th>913076</th>\n      <td>(It)</td>\n      <td>(uses)</td>\n      <td>(animation)</td>\n      <td>7776.0</td>\n      <td>7784.0</td>\n      <td>nsubj</td>\n      <td>PRP</td>\n      <td>dobj</td>\n      <td>NN</td>\n      <td>22907</td>\n    </tr>\n    <tr>\n      <th>913077</th>\n      <td>(It)</td>\n      <td>(uses)</td>\n      <td>(relationship)</td>\n      <td>7776.0</td>\n      <td>7793.0</td>\n      <td>nsubj</td>\n      <td>PRP</td>\n      <td>dobj</td>\n      <td>NN</td>\n      <td>22907</td>\n    </tr>\n    <tr>\n      <th>913078</th>\n      <td>(It)</td>\n      <td>(uses)</td>\n      <td>(to, follow)</td>\n      <td>7776.0</td>\n      <td>7786.0</td>\n      <td>nsubj</td>\n      <td>PRP</td>\n      <td>xcomp</td>\n      <td>VB</td>\n      <td>22907</td>\n    </tr>\n    <tr>\n      <th>913079</th>\n      <td>(Pear, Cider)</td>\n      <td>(began)</td>\n      <td>(life)</td>\n      <td>7810.0</td>\n      <td>7817.0</td>\n      <td>nsubj</td>\n      <td>NNP</td>\n      <td>dobj</td>\n      <td>NN</td>\n      <td>22907</td>\n    </tr>\n    <tr>\n      <th>913080</th>\n      <td>(Cigarettes)</td>\n      <td>(began)</td>\n      <td>(life)</td>\n      <td>7810.0</td>\n      <td>7817.0</td>\n      <td>conj</td>\n      <td>NNPS</td>\n      <td>dobj</td>\n      <td>NN</td>\n      <td>22907</td>\n    </tr>\n    <tr>\n      <th>913081</th>\n      <td>(use)</td>\n      <td>(turn)</td>\n      <td>(it)</td>\n      <td>7810.0</td>\n      <td>7854.0</td>\n      <td>nsubj</td>\n      <td>NN</td>\n      <td>dobj</td>\n      <td>PRP</td>\n      <td>22907</td>\n    </tr>\n    <tr>\n      <th>913082</th>\n      <td>(which)</td>\n      <td>(portrayed)</td>\n      <td>(relationship)</td>\n      <td>7910.0</td>\n      <td>7935.0</td>\n      <td>nsubj</td>\n      <td>WDT</td>\n      <td>dobj</td>\n      <td>NN</td>\n      <td>22907</td>\n    </tr>\n    <tr>\n      <th>913083</th>\n      <td>(minute, Pearl)</td>\n      <td>(portrays)</td>\n      <td>(relationship)</td>\n      <td>7910.0</td>\n      <td>7956.0</td>\n      <td>nsubj</td>\n      <td>NNP</td>\n      <td>dobj</td>\n      <td>NN</td>\n      <td>22907</td>\n    </tr>\n    <tr>\n      <th>913084</th>\n      <td>(Rogue, One)</td>\n      <td>(delivers)</td>\n      <td>(amount)</td>\n      <td>8145.0</td>\n      <td>8169.0</td>\n      <td>nsubj</td>\n      <td>NNP</td>\n      <td>dobj</td>\n      <td>NN</td>\n      <td>22907</td>\n    </tr>\n    <tr>\n      <th>913085</th>\n      <td>(that)</td>\n      <td>(accompany)</td>\n      <td>(war)</td>\n      <td>8145.0</td>\n      <td>8196.0</td>\n      <td>nsubj</td>\n      <td>WDT</td>\n      <td>dobj</td>\n      <td>NN</td>\n      <td>22907</td>\n    </tr>\n    <tr>\n      <th>913086</th>\n      <td>(President, Trump)</td>\n      <td>(took)</td>\n      <td>(trip)</td>\n      <td>0.0</td>\n      <td>4.0</td>\n      <td>nsubj</td>\n      <td>NNP</td>\n      <td>dobj</td>\n      <td>NN</td>\n      <td>22908</td>\n    </tr>\n    <tr>\n      <th>913087</th>\n      <td>(he)</td>\n      <td>(called)</td>\n      <td>(to, back)</td>\n      <td>0.0</td>\n      <td>28.0</td>\n      <td>nsubj</td>\n      <td>PRP</td>\n      <td>xcomp</td>\n      <td>VB</td>\n      <td>22908</td>\n    </tr>\n    <tr>\n      <th>913088</th>\n      <td>(it)</td>\n      <td>(served)</td>\n      <td>(purpose)</td>\n      <td>44.0</td>\n      <td>61.0</td>\n      <td>nsubj</td>\n      <td>PRP</td>\n      <td>dobj</td>\n      <td>NN</td>\n      <td>22908</td>\n    </tr>\n    <tr>\n      <th>913089</th>\n      <td>(SPAN)</td>\n      <td>(carried)</td>\n      <td>(speech)</td>\n      <td>85.0</td>\n      <td>90.0</td>\n      <td>nsubj</td>\n      <td>NNP</td>\n      <td>dobj</td>\n      <td>NN</td>\n      <td>22908</td>\n    </tr>\n    <tr>\n      <th>913090</th>\n      <td>(Vox, news, staff)</td>\n      <td>(added)</td>\n      <td>(annotations)</td>\n      <td>101.0</td>\n      <td>114.0</td>\n      <td>nsubj</td>\n      <td>NN</td>\n      <td>dobj</td>\n      <td>NNS</td>\n      <td>22908</td>\n    </tr>\n  </tbody>\n</table>\n</div>"
     },
     "metadata": {},
     "execution_count": 19
    }
   ],
   "source": [
    "svodf = pd.DataFrame()\n",
    "\n",
    "for i in range(len(vox)): \n",
    "    doc = nlp(vox.iloc[i]['clean_strings'])\n",
    "    df = create_svo_dataframe(doc)\n",
    "    df['Document'] = i \n",
    "    svodf = svodf.append(df, ignore_index = True)\n",
    "    if (i % 100 == 0):\n",
    "        print(f'working on article {i}')\n",
    "\n",
    "svodf.tail(25)"
   ]
  },
  {
   "cell_type": "markdown",
   "metadata": {},
   "source": [
    "We got the data-set but some filtering will be useful at this point. I will select triplets where the object is a direct object and a variant of a proper noun. This is so that the triplets fit better with the structure used by Affect Control Theory. "
   ]
  },
  {
   "cell_type": "code",
   "execution_count": 20,
   "metadata": {},
   "outputs": [
    {
     "output_type": "execute_result",
     "data": {
      "text/plain": "                          subject              verb              object  \\\n913010                       (it)              (’s)              (opus)   \n913011                     (that)           (turns)              (life)   \n913013  (director, Ezra, Edelman)       (has, made)             (movie)   \n913014                     (cast)           (carry)               (day)   \n913015                  (feeling)           (carry)               (day)   \n913017                       (it)      (’s, filled)           (history)   \n913020                       (it)              (’s)         (nightmare)   \n913022                     (them)         (reenact)       (love, story)   \n913025               (government)           (turns)            (screws)   \n913026                       (he)       (’ll, give)             (names)   \n913027                      (who)        (attended)             (group)   \n913032                    (there)              (’s)            (satire)   \n913034                    (there)              (’s)              (girl)   \n913035                 (Timecode)           (makes)               (use)   \n913037                     (many)        (pressing)            (issues)   \n913038                       (It)            (uses)       (combination)   \n913039                (depiction)           (takes)   (movie, approach)   \n913040                      (who)            (paid)         (attention)   \n913042                       (it)       (justifies)              (film)   \n913043                       (it)       (justifies)       (nominations)   \n913044                  (dramedy)          (adapts)       (life, story)   \n913045                     (love)           (finds)            (outlet)   \n913046                       (It)              (’s)              (tale)   \n913050                      (one)  (did, n’t, earn)              (nods)   \n913052                     (Rank)           (takes)         (liberties)   \n913053                       (it)              (’s)         (retelling)   \n913054                       (it)          (tracks)       (Court, case)   \n913055                     (that)     (invalidated)              (laws)   \n913056                     (that)        (inspired)  (landmark, ruling)   \n913059                    (there)              (’s)             (issue)   \n913060                    (which)      (represents)  (feature, formula)   \n913061                    (Piper)            (uses)        (shorebirds)   \n913063                       (it)         (follows)        (baby, bird)   \n913065                       (he)           (meets)            (turtle)   \n913066                    (which)        (includes)             (Smith)   \n913071                 (Zootopia)            (uses)   (kingdom, divide)   \n913074                     (film)      (reinforces)              (feel)   \n913075                (Nominated)        (portrays)        (friendship)   \n913076                       (It)            (uses)         (animation)   \n913077                       (It)            (uses)      (relationship)   \n913079              (Pear, Cider)           (began)              (life)   \n913080               (Cigarettes)           (began)              (life)   \n913082                    (which)       (portrayed)      (relationship)   \n913083            (minute, Pearl)        (portrays)      (relationship)   \n913084               (Rogue, One)        (delivers)            (amount)   \n913085                     (that)       (accompany)               (war)   \n913086         (President, Trump)            (took)              (trip)   \n913088                       (it)          (served)           (purpose)   \n913089                     (SPAN)         (carried)            (speech)   \n913090         (Vox, news, staff)           (added)       (annotations)   \n\n         start     end subj_dep subj_tag obj_dep obj_tag  Document  \n913010  4620.0  4637.0    nsubj      PRP    dobj      NN     22907  \n913011  4620.0  4641.0    nsubj      WDT    dobj      NN     22907  \n913013  4669.0  4676.0    nsubj      NNP    dobj      NN     22907  \n913014  4775.0  4785.0    nsubj       NN    dobj      NN     22907  \n913015  4775.0  4785.0     conj       NN    dobj      NN     22907  \n913017  5005.0  5035.0    nsubj      PRP    dobj      NN     22907  \n913020  5109.0  5137.0    nsubj      PRP    dobj      NN     22907  \n913022  5186.0  5215.0    nsubj      PRP    dobj      NN     22907  \n913025  5312.0  5341.0    nsubj       NN    dobj     NNS     22907  \n913026  5312.0  5357.0    nsubj      PRP    dobj     NNS     22907  \n913027  5312.0  5365.0    nsubj       WP    dobj      NN     22907  \n913032  5612.0  5641.0     expl       EX    dobj      NN     22907  \n913034  5716.0  5730.0     expl       EX    dobj      NN     22907  \n913035  5747.0  5750.0    nsubj      NNP    dobj      NN     22907  \n913037  5818.0  5847.0    nsubj       JJ    dobj     NNS     22907  \n913038  5873.0  5896.0    nsubj      PRP    dobj      NN     22907  \n913039  5962.0  5974.0    nsubj       NN    dobj      NN     22907  \n913040  5962.0  6001.0    nsubj       WP    dobj      NN     22907  \n913042  6011.0  6050.0    nsubj      PRP    dobj      NN     22907  \n913043  6011.0  6052.0    nsubj      PRP    dobj     NNS     22907  \n913044  6097.0  6115.0    nsubj       JJ    dobj      NN     22907  \n913045  6097.0  6134.0    nsubj       NN    dobj      NN     22907  \n913046  6142.0  6148.0    nsubj      PRP    dobj      NN     22907  \n913050  6321.0  6327.0    nsubj       NN    dobj     NNS     22907  \n913052  6534.0  6569.0    nsubj      NNP    dobj     NNS     22907  \n913053  6602.0  6637.0    nsubj      PRP    dobj      NN     22907  \n913054  6797.0  6804.0    nsubj      PRP    dobj      NN     22907  \n913055  6797.0  6807.0    nsubj      WDT    dobj     NNS     22907  \n913056  6797.0  6827.0    nsubj      WDT    dobj      NN     22907  \n913059  6979.0  6999.0     expl       EX    dobj      NN     22907  \n913060  6979.0  7009.0    nsubj      WDT    dobj      NN     22907  \n913061  7045.0  7071.0    nsubj      NNP    dobj     NNS     22907  \n913063  7097.0  7104.0    nsubj      PRP    dobj      NN     22907  \n913065  7198.0  7219.0    nsubj      PRP    dobj      NN     22907  \n913066  7379.0  7394.0    nsubj      WDT    dobj     NNP     22907  \n913071  7486.0  7502.0    nsubj      NNP    dobj      NN     22907  \n913074  7643.0  7661.0    nsubj       NN    dobj      NN     22907  \n913075  7739.0  7763.0    nsubj      VBN    dobj      NN     22907  \n913076  7776.0  7784.0    nsubj      PRP    dobj      NN     22907  \n913077  7776.0  7793.0    nsubj      PRP    dobj      NN     22907  \n913079  7810.0  7817.0    nsubj      NNP    dobj      NN     22907  \n913080  7810.0  7817.0     conj     NNPS    dobj      NN     22907  \n913082  7910.0  7935.0    nsubj      WDT    dobj      NN     22907  \n913083  7910.0  7956.0    nsubj      NNP    dobj      NN     22907  \n913084  8145.0  8169.0    nsubj      NNP    dobj      NN     22907  \n913085  8145.0  8196.0    nsubj      WDT    dobj      NN     22907  \n913086     0.0     4.0    nsubj      NNP    dobj      NN     22908  \n913088    44.0    61.0    nsubj      PRP    dobj      NN     22908  \n913089    85.0    90.0    nsubj      NNP    dobj      NN     22908  \n913090   101.0   114.0    nsubj       NN    dobj     NNS     22908  ",
      "text/html": "<div>\n<style scoped>\n    .dataframe tbody tr th:only-of-type {\n        vertical-align: middle;\n    }\n\n    .dataframe tbody tr th {\n        vertical-align: top;\n    }\n\n    .dataframe thead th {\n        text-align: right;\n    }\n</style>\n<table border=\"1\" class=\"dataframe\">\n  <thead>\n    <tr style=\"text-align: right;\">\n      <th></th>\n      <th>subject</th>\n      <th>verb</th>\n      <th>object</th>\n      <th>start</th>\n      <th>end</th>\n      <th>subj_dep</th>\n      <th>subj_tag</th>\n      <th>obj_dep</th>\n      <th>obj_tag</th>\n      <th>Document</th>\n    </tr>\n  </thead>\n  <tbody>\n    <tr>\n      <th>913010</th>\n      <td>(it)</td>\n      <td>(’s)</td>\n      <td>(opus)</td>\n      <td>4620.0</td>\n      <td>4637.0</td>\n      <td>nsubj</td>\n      <td>PRP</td>\n      <td>dobj</td>\n      <td>NN</td>\n      <td>22907</td>\n    </tr>\n    <tr>\n      <th>913011</th>\n      <td>(that)</td>\n      <td>(turns)</td>\n      <td>(life)</td>\n      <td>4620.0</td>\n      <td>4641.0</td>\n      <td>nsubj</td>\n      <td>WDT</td>\n      <td>dobj</td>\n      <td>NN</td>\n      <td>22907</td>\n    </tr>\n    <tr>\n      <th>913013</th>\n      <td>(director, Ezra, Edelman)</td>\n      <td>(has, made)</td>\n      <td>(movie)</td>\n      <td>4669.0</td>\n      <td>4676.0</td>\n      <td>nsubj</td>\n      <td>NNP</td>\n      <td>dobj</td>\n      <td>NN</td>\n      <td>22907</td>\n    </tr>\n    <tr>\n      <th>913014</th>\n      <td>(cast)</td>\n      <td>(carry)</td>\n      <td>(day)</td>\n      <td>4775.0</td>\n      <td>4785.0</td>\n      <td>nsubj</td>\n      <td>NN</td>\n      <td>dobj</td>\n      <td>NN</td>\n      <td>22907</td>\n    </tr>\n    <tr>\n      <th>913015</th>\n      <td>(feeling)</td>\n      <td>(carry)</td>\n      <td>(day)</td>\n      <td>4775.0</td>\n      <td>4785.0</td>\n      <td>conj</td>\n      <td>NN</td>\n      <td>dobj</td>\n      <td>NN</td>\n      <td>22907</td>\n    </tr>\n    <tr>\n      <th>913017</th>\n      <td>(it)</td>\n      <td>(’s, filled)</td>\n      <td>(history)</td>\n      <td>5005.0</td>\n      <td>5035.0</td>\n      <td>nsubj</td>\n      <td>PRP</td>\n      <td>dobj</td>\n      <td>NN</td>\n      <td>22907</td>\n    </tr>\n    <tr>\n      <th>913020</th>\n      <td>(it)</td>\n      <td>(’s)</td>\n      <td>(nightmare)</td>\n      <td>5109.0</td>\n      <td>5137.0</td>\n      <td>nsubj</td>\n      <td>PRP</td>\n      <td>dobj</td>\n      <td>NN</td>\n      <td>22907</td>\n    </tr>\n    <tr>\n      <th>913022</th>\n      <td>(them)</td>\n      <td>(reenact)</td>\n      <td>(love, story)</td>\n      <td>5186.0</td>\n      <td>5215.0</td>\n      <td>nsubj</td>\n      <td>PRP</td>\n      <td>dobj</td>\n      <td>NN</td>\n      <td>22907</td>\n    </tr>\n    <tr>\n      <th>913025</th>\n      <td>(government)</td>\n      <td>(turns)</td>\n      <td>(screws)</td>\n      <td>5312.0</td>\n      <td>5341.0</td>\n      <td>nsubj</td>\n      <td>NN</td>\n      <td>dobj</td>\n      <td>NNS</td>\n      <td>22907</td>\n    </tr>\n    <tr>\n      <th>913026</th>\n      <td>(he)</td>\n      <td>(’ll, give)</td>\n      <td>(names)</td>\n      <td>5312.0</td>\n      <td>5357.0</td>\n      <td>nsubj</td>\n      <td>PRP</td>\n      <td>dobj</td>\n      <td>NNS</td>\n      <td>22907</td>\n    </tr>\n    <tr>\n      <th>913027</th>\n      <td>(who)</td>\n      <td>(attended)</td>\n      <td>(group)</td>\n      <td>5312.0</td>\n      <td>5365.0</td>\n      <td>nsubj</td>\n      <td>WP</td>\n      <td>dobj</td>\n      <td>NN</td>\n      <td>22907</td>\n    </tr>\n    <tr>\n      <th>913032</th>\n      <td>(there)</td>\n      <td>(’s)</td>\n      <td>(satire)</td>\n      <td>5612.0</td>\n      <td>5641.0</td>\n      <td>expl</td>\n      <td>EX</td>\n      <td>dobj</td>\n      <td>NN</td>\n      <td>22907</td>\n    </tr>\n    <tr>\n      <th>913034</th>\n      <td>(there)</td>\n      <td>(’s)</td>\n      <td>(girl)</td>\n      <td>5716.0</td>\n      <td>5730.0</td>\n      <td>expl</td>\n      <td>EX</td>\n      <td>dobj</td>\n      <td>NN</td>\n      <td>22907</td>\n    </tr>\n    <tr>\n      <th>913035</th>\n      <td>(Timecode)</td>\n      <td>(makes)</td>\n      <td>(use)</td>\n      <td>5747.0</td>\n      <td>5750.0</td>\n      <td>nsubj</td>\n      <td>NNP</td>\n      <td>dobj</td>\n      <td>NN</td>\n      <td>22907</td>\n    </tr>\n    <tr>\n      <th>913037</th>\n      <td>(many)</td>\n      <td>(pressing)</td>\n      <td>(issues)</td>\n      <td>5818.0</td>\n      <td>5847.0</td>\n      <td>nsubj</td>\n      <td>JJ</td>\n      <td>dobj</td>\n      <td>NNS</td>\n      <td>22907</td>\n    </tr>\n    <tr>\n      <th>913038</th>\n      <td>(It)</td>\n      <td>(uses)</td>\n      <td>(combination)</td>\n      <td>5873.0</td>\n      <td>5896.0</td>\n      <td>nsubj</td>\n      <td>PRP</td>\n      <td>dobj</td>\n      <td>NN</td>\n      <td>22907</td>\n    </tr>\n    <tr>\n      <th>913039</th>\n      <td>(depiction)</td>\n      <td>(takes)</td>\n      <td>(movie, approach)</td>\n      <td>5962.0</td>\n      <td>5974.0</td>\n      <td>nsubj</td>\n      <td>NN</td>\n      <td>dobj</td>\n      <td>NN</td>\n      <td>22907</td>\n    </tr>\n    <tr>\n      <th>913040</th>\n      <td>(who)</td>\n      <td>(paid)</td>\n      <td>(attention)</td>\n      <td>5962.0</td>\n      <td>6001.0</td>\n      <td>nsubj</td>\n      <td>WP</td>\n      <td>dobj</td>\n      <td>NN</td>\n      <td>22907</td>\n    </tr>\n    <tr>\n      <th>913042</th>\n      <td>(it)</td>\n      <td>(justifies)</td>\n      <td>(film)</td>\n      <td>6011.0</td>\n      <td>6050.0</td>\n      <td>nsubj</td>\n      <td>PRP</td>\n      <td>dobj</td>\n      <td>NN</td>\n      <td>22907</td>\n    </tr>\n    <tr>\n      <th>913043</th>\n      <td>(it)</td>\n      <td>(justifies)</td>\n      <td>(nominations)</td>\n      <td>6011.0</td>\n      <td>6052.0</td>\n      <td>nsubj</td>\n      <td>PRP</td>\n      <td>dobj</td>\n      <td>NNS</td>\n      <td>22907</td>\n    </tr>\n    <tr>\n      <th>913044</th>\n      <td>(dramedy)</td>\n      <td>(adapts)</td>\n      <td>(life, story)</td>\n      <td>6097.0</td>\n      <td>6115.0</td>\n      <td>nsubj</td>\n      <td>JJ</td>\n      <td>dobj</td>\n      <td>NN</td>\n      <td>22907</td>\n    </tr>\n    <tr>\n      <th>913045</th>\n      <td>(love)</td>\n      <td>(finds)</td>\n      <td>(outlet)</td>\n      <td>6097.0</td>\n      <td>6134.0</td>\n      <td>nsubj</td>\n      <td>NN</td>\n      <td>dobj</td>\n      <td>NN</td>\n      <td>22907</td>\n    </tr>\n    <tr>\n      <th>913046</th>\n      <td>(It)</td>\n      <td>(’s)</td>\n      <td>(tale)</td>\n      <td>6142.0</td>\n      <td>6148.0</td>\n      <td>nsubj</td>\n      <td>PRP</td>\n      <td>dobj</td>\n      <td>NN</td>\n      <td>22907</td>\n    </tr>\n    <tr>\n      <th>913050</th>\n      <td>(one)</td>\n      <td>(did, n’t, earn)</td>\n      <td>(nods)</td>\n      <td>6321.0</td>\n      <td>6327.0</td>\n      <td>nsubj</td>\n      <td>NN</td>\n      <td>dobj</td>\n      <td>NNS</td>\n      <td>22907</td>\n    </tr>\n    <tr>\n      <th>913052</th>\n      <td>(Rank)</td>\n      <td>(takes)</td>\n      <td>(liberties)</td>\n      <td>6534.0</td>\n      <td>6569.0</td>\n      <td>nsubj</td>\n      <td>NNP</td>\n      <td>dobj</td>\n      <td>NNS</td>\n      <td>22907</td>\n    </tr>\n    <tr>\n      <th>913053</th>\n      <td>(it)</td>\n      <td>(’s)</td>\n      <td>(retelling)</td>\n      <td>6602.0</td>\n      <td>6637.0</td>\n      <td>nsubj</td>\n      <td>PRP</td>\n      <td>dobj</td>\n      <td>NN</td>\n      <td>22907</td>\n    </tr>\n    <tr>\n      <th>913054</th>\n      <td>(it)</td>\n      <td>(tracks)</td>\n      <td>(Court, case)</td>\n      <td>6797.0</td>\n      <td>6804.0</td>\n      <td>nsubj</td>\n      <td>PRP</td>\n      <td>dobj</td>\n      <td>NN</td>\n      <td>22907</td>\n    </tr>\n    <tr>\n      <th>913055</th>\n      <td>(that)</td>\n      <td>(invalidated)</td>\n      <td>(laws)</td>\n      <td>6797.0</td>\n      <td>6807.0</td>\n      <td>nsubj</td>\n      <td>WDT</td>\n      <td>dobj</td>\n      <td>NNS</td>\n      <td>22907</td>\n    </tr>\n    <tr>\n      <th>913056</th>\n      <td>(that)</td>\n      <td>(inspired)</td>\n      <td>(landmark, ruling)</td>\n      <td>6797.0</td>\n      <td>6827.0</td>\n      <td>nsubj</td>\n      <td>WDT</td>\n      <td>dobj</td>\n      <td>NN</td>\n      <td>22907</td>\n    </tr>\n    <tr>\n      <th>913059</th>\n      <td>(there)</td>\n      <td>(’s)</td>\n      <td>(issue)</td>\n      <td>6979.0</td>\n      <td>6999.0</td>\n      <td>expl</td>\n      <td>EX</td>\n      <td>dobj</td>\n      <td>NN</td>\n      <td>22907</td>\n    </tr>\n    <tr>\n      <th>913060</th>\n      <td>(which)</td>\n      <td>(represents)</td>\n      <td>(feature, formula)</td>\n      <td>6979.0</td>\n      <td>7009.0</td>\n      <td>nsubj</td>\n      <td>WDT</td>\n      <td>dobj</td>\n      <td>NN</td>\n      <td>22907</td>\n    </tr>\n    <tr>\n      <th>913061</th>\n      <td>(Piper)</td>\n      <td>(uses)</td>\n      <td>(shorebirds)</td>\n      <td>7045.0</td>\n      <td>7071.0</td>\n      <td>nsubj</td>\n      <td>NNP</td>\n      <td>dobj</td>\n      <td>NNS</td>\n      <td>22907</td>\n    </tr>\n    <tr>\n      <th>913063</th>\n      <td>(it)</td>\n      <td>(follows)</td>\n      <td>(baby, bird)</td>\n      <td>7097.0</td>\n      <td>7104.0</td>\n      <td>nsubj</td>\n      <td>PRP</td>\n      <td>dobj</td>\n      <td>NN</td>\n      <td>22907</td>\n    </tr>\n    <tr>\n      <th>913065</th>\n      <td>(he)</td>\n      <td>(meets)</td>\n      <td>(turtle)</td>\n      <td>7198.0</td>\n      <td>7219.0</td>\n      <td>nsubj</td>\n      <td>PRP</td>\n      <td>dobj</td>\n      <td>NN</td>\n      <td>22907</td>\n    </tr>\n    <tr>\n      <th>913066</th>\n      <td>(which)</td>\n      <td>(includes)</td>\n      <td>(Smith)</td>\n      <td>7379.0</td>\n      <td>7394.0</td>\n      <td>nsubj</td>\n      <td>WDT</td>\n      <td>dobj</td>\n      <td>NNP</td>\n      <td>22907</td>\n    </tr>\n    <tr>\n      <th>913071</th>\n      <td>(Zootopia)</td>\n      <td>(uses)</td>\n      <td>(kingdom, divide)</td>\n      <td>7486.0</td>\n      <td>7502.0</td>\n      <td>nsubj</td>\n      <td>NNP</td>\n      <td>dobj</td>\n      <td>NN</td>\n      <td>22907</td>\n    </tr>\n    <tr>\n      <th>913074</th>\n      <td>(film)</td>\n      <td>(reinforces)</td>\n      <td>(feel)</td>\n      <td>7643.0</td>\n      <td>7661.0</td>\n      <td>nsubj</td>\n      <td>NN</td>\n      <td>dobj</td>\n      <td>NN</td>\n      <td>22907</td>\n    </tr>\n    <tr>\n      <th>913075</th>\n      <td>(Nominated)</td>\n      <td>(portrays)</td>\n      <td>(friendship)</td>\n      <td>7739.0</td>\n      <td>7763.0</td>\n      <td>nsubj</td>\n      <td>VBN</td>\n      <td>dobj</td>\n      <td>NN</td>\n      <td>22907</td>\n    </tr>\n    <tr>\n      <th>913076</th>\n      <td>(It)</td>\n      <td>(uses)</td>\n      <td>(animation)</td>\n      <td>7776.0</td>\n      <td>7784.0</td>\n      <td>nsubj</td>\n      <td>PRP</td>\n      <td>dobj</td>\n      <td>NN</td>\n      <td>22907</td>\n    </tr>\n    <tr>\n      <th>913077</th>\n      <td>(It)</td>\n      <td>(uses)</td>\n      <td>(relationship)</td>\n      <td>7776.0</td>\n      <td>7793.0</td>\n      <td>nsubj</td>\n      <td>PRP</td>\n      <td>dobj</td>\n      <td>NN</td>\n      <td>22907</td>\n    </tr>\n    <tr>\n      <th>913079</th>\n      <td>(Pear, Cider)</td>\n      <td>(began)</td>\n      <td>(life)</td>\n      <td>7810.0</td>\n      <td>7817.0</td>\n      <td>nsubj</td>\n      <td>NNP</td>\n      <td>dobj</td>\n      <td>NN</td>\n      <td>22907</td>\n    </tr>\n    <tr>\n      <th>913080</th>\n      <td>(Cigarettes)</td>\n      <td>(began)</td>\n      <td>(life)</td>\n      <td>7810.0</td>\n      <td>7817.0</td>\n      <td>conj</td>\n      <td>NNPS</td>\n      <td>dobj</td>\n      <td>NN</td>\n      <td>22907</td>\n    </tr>\n    <tr>\n      <th>913082</th>\n      <td>(which)</td>\n      <td>(portrayed)</td>\n      <td>(relationship)</td>\n      <td>7910.0</td>\n      <td>7935.0</td>\n      <td>nsubj</td>\n      <td>WDT</td>\n      <td>dobj</td>\n      <td>NN</td>\n      <td>22907</td>\n    </tr>\n    <tr>\n      <th>913083</th>\n      <td>(minute, Pearl)</td>\n      <td>(portrays)</td>\n      <td>(relationship)</td>\n      <td>7910.0</td>\n      <td>7956.0</td>\n      <td>nsubj</td>\n      <td>NNP</td>\n      <td>dobj</td>\n      <td>NN</td>\n      <td>22907</td>\n    </tr>\n    <tr>\n      <th>913084</th>\n      <td>(Rogue, One)</td>\n      <td>(delivers)</td>\n      <td>(amount)</td>\n      <td>8145.0</td>\n      <td>8169.0</td>\n      <td>nsubj</td>\n      <td>NNP</td>\n      <td>dobj</td>\n      <td>NN</td>\n      <td>22907</td>\n    </tr>\n    <tr>\n      <th>913085</th>\n      <td>(that)</td>\n      <td>(accompany)</td>\n      <td>(war)</td>\n      <td>8145.0</td>\n      <td>8196.0</td>\n      <td>nsubj</td>\n      <td>WDT</td>\n      <td>dobj</td>\n      <td>NN</td>\n      <td>22907</td>\n    </tr>\n    <tr>\n      <th>913086</th>\n      <td>(President, Trump)</td>\n      <td>(took)</td>\n      <td>(trip)</td>\n      <td>0.0</td>\n      <td>4.0</td>\n      <td>nsubj</td>\n      <td>NNP</td>\n      <td>dobj</td>\n      <td>NN</td>\n      <td>22908</td>\n    </tr>\n    <tr>\n      <th>913088</th>\n      <td>(it)</td>\n      <td>(served)</td>\n      <td>(purpose)</td>\n      <td>44.0</td>\n      <td>61.0</td>\n      <td>nsubj</td>\n      <td>PRP</td>\n      <td>dobj</td>\n      <td>NN</td>\n      <td>22908</td>\n    </tr>\n    <tr>\n      <th>913089</th>\n      <td>(SPAN)</td>\n      <td>(carried)</td>\n      <td>(speech)</td>\n      <td>85.0</td>\n      <td>90.0</td>\n      <td>nsubj</td>\n      <td>NNP</td>\n      <td>dobj</td>\n      <td>NN</td>\n      <td>22908</td>\n    </tr>\n    <tr>\n      <th>913090</th>\n      <td>(Vox, news, staff)</td>\n      <td>(added)</td>\n      <td>(annotations)</td>\n      <td>101.0</td>\n      <td>114.0</td>\n      <td>nsubj</td>\n      <td>NN</td>\n      <td>dobj</td>\n      <td>NNS</td>\n      <td>22908</td>\n    </tr>\n  </tbody>\n</table>\n</div>"
     },
     "metadata": {},
     "execution_count": 20
    }
   ],
   "source": [
    "svodf_filtered = svodf[(svodf.obj_dep=='dobj')]\n",
    "svodf_final = svodf_filtered[svodf_filtered.obj_tag.isin([\"NN\", \"NNS\", \"NNP\", \"NNPS\"])]\n",
    "\n",
    "svodf_final.tail(50)\n"
   ]
  },
  {
   "cell_type": "markdown",
   "metadata": {},
   "source": [
    "Last step is to save the data-frame in our Data folder "
   ]
  },
  {
   "cell_type": "code",
   "execution_count": 21,
   "metadata": {},
   "outputs": [],
   "source": [
    "svodf_final.to_csv('C:/Users/nro04/Documents/moral_templates/Data/vox_triplets_dataset.csv')"
   ]
  }
 ],
 "metadata": {
  "kernelspec": {
   "display_name": "Python 3",
   "language": "python",
   "name": "python3"
  },
  "language_info": {
   "codemirror_mode": {
    "name": "ipython",
    "version": 3
   },
   "file_extension": ".py",
   "mimetype": "text/x-python",
   "name": "python",
   "nbconvert_exporter": "python",
   "pygments_lexer": "ipython3",
   "version": "3.7.8-final"
  },
  "toc": {
   "base_numbering": 1,
   "nav_menu": {},
   "number_sections": true,
   "sideBar": true,
   "skip_h1_title": false,
   "title_cell": "Table of Contents",
   "title_sidebar": "Contents",
   "toc_cell": false,
   "toc_position": {},
   "toc_section_display": true,
   "toc_window_display": false
  },
  "varInspector": {
   "cols": {
    "lenName": 16,
    "lenType": 16,
    "lenVar": 40
   },
   "kernels_config": {
    "python": {
     "delete_cmd_postfix": "",
     "delete_cmd_prefix": "del ",
     "library": "var_list.py",
     "varRefreshCmd": "print(var_dic_list())"
    },
    "r": {
     "delete_cmd_postfix": ") ",
     "delete_cmd_prefix": "rm(",
     "library": "var_list.r",
     "varRefreshCmd": "cat(var_dic_list()) "
    }
   },
   "types_to_exclude": [
    "module",
    "function",
    "builtin_function_or_method",
    "instance",
    "_Feature"
   ],
   "window_display": false
  }
 },
 "nbformat": 4,
 "nbformat_minor": 2
}